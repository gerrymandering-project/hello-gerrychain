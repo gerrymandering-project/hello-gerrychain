{
 "cells": [
  {
   "cell_type": "code",
   "execution_count": null,
   "metadata": {},
   "outputs": [
    {
     "name": "stderr",
     "output_type": "stream",
     "text": [
      "/usr/local/lib/python3.7/site-packages/gerrychain/graph/graph.py:228: UserWarning: Found islands (degree-0 nodes). Indices of islands: {1395, 63}\n",
      "  \"Found islands (degree-0 nodes). Indices of islands: {}\".format(islands)\n"
     ]
    }
   ],
   "source": [
    "# Python tools for output, directory management, and graph management \n",
    "import csv\n",
    "import os\n",
    "from functools import partial\n",
    "import json\n",
    "import geopandas as gpd\n",
    "import pandas as pd\n",
    "import matplotlib.pyplot as plt\n",
    "from networkx import is_connected, connected_components\n",
    "\n",
    "#gerry chain tools \n",
    "from gerrychain import (\n",
    "    Election,\n",
    "    Graph,\n",
    "    MarkovChain,\n",
    "    Partition,\n",
    "    accept,\n",
    "    constraints,\n",
    "    updaters,\n",
    ")\n",
    "from gerrychain.metrics import efficiency_gap, mean_median\n",
    "from gerrychain.proposals import recom, propose_random_flip\n",
    "from gerrychain.updaters import cut_edges, Tally\n",
    "from gerrychain.constraints import single_flip_contiguous\n",
    "from gerrychain.accept import always_accept\n",
    "\n",
    "graph = Graph.from_file(\"./Data/Wisconsin/WI_ltsb_corrected_final.shp\")\n",
    "\n",
    "\n"
   ]
  },
  {
   "cell_type": "markdown",
   "metadata": {},
   "source": [
    "## Remove Islands for dirty solution to connect graph"
   ]
  },
  {
   "cell_type": "code",
   "execution_count": null,
   "metadata": {},
   "outputs": [],
   "source": [
    "islands = graph.islands\n",
    "components = list(connected_components(graph))\n",
    "df = gpd.read_file(\"./Data/Wisconsin/WI_ltsb_corrected_final.shp\")\n",
    "df.to_crs({\"init\": \"epsg:26986\"}, inplace=True)\n",
    "\n",
    "df.plot(figsize=(10, 10))\n",
    "plt.axis('off')\n",
    "plt.show()"
   ]
  },
  {
   "cell_type": "code",
   "execution_count": null,
   "metadata": {},
   "outputs": [],
   "source": [
    "print(\"Graph connection status: \", is_connected(graph))\n",
    "biggest_component_size = max(len(c) for c in components)\n",
    "problem_components = [c for c in components if len(c) != biggest_component_size]\n",
    "problem_nodes = [node for component in problem_components for node in component]\n",
    "problem_geoids = [graph.nodes[node][\"GEOID10\"] for node in problem_nodes]\n",
    "\n",
    "is_a_problem = df[\"GEOID10\"].isin(problem_geoids)\n",
    "df.plot(column=is_a_problem, figsize=(10, 10))\n",
    "plt.axis('off')\n",
    "plt.show()"
   ]
  },
  {
   "cell_type": "markdown",
   "metadata": {},
   "source": [
    "Found the problem components! Now we delete"
   ]
  },
  {
   "cell_type": "code",
   "execution_count": null,
   "metadata": {},
   "outputs": [],
   "source": [
    "largest_component_size = max(len(c) for c in components)\n",
    "to_delete = [c for c in components if len(c) != largest_component_size]\n",
    "for c in to_delete:\n",
    "    for node in c:\n",
    "        graph.remove_node(node)"
   ]
  },
  {
   "cell_type": "code",
   "execution_count": null,
   "metadata": {},
   "outputs": [],
   "source": [
    "print(\"Graph connection status: \", is_connected(graph))"
   ]
  },
  {
   "cell_type": "markdown",
   "metadata": {},
   "source": [
    "## Great! Now we proceed to set up the first Markov Chain"
   ]
  },
  {
   "cell_type": "code",
   "execution_count": null,
   "metadata": {},
   "outputs": [],
   "source": [
    "election = Election(\"PRETOT16\", {\"Dem\": \"PREDEM16\", \"Rep\": \"PREREP16\"})\n",
    "#Create initial parition based on congressional districts... not sure if this is how we want to partition?\n",
    "initial_partition = Partition(\n",
    "    graph,\n",
    "    assignment=\"CON\",\n",
    "    updaters={\n",
    "        \"cut_edges\": cut_edges,\n",
    "        \"population\": Tally(\"PERSONS\", alias=\"population\"),\n",
    "        \"PRETOT16\": election\n",
    "    }\n",
    ")"
   ]
  },
  {
   "cell_type": "code",
   "execution_count": null,
   "metadata": {},
   "outputs": [],
   "source": [
    "for district, pop in initial_partition[\"population\"].items():\n",
    "    print(\"District {}: {}\".format(district, pop))"
   ]
  },
  {
   "cell_type": "code",
   "execution_count": null,
   "metadata": {},
   "outputs": [],
   "source": [
    "chain = MarkovChain(\n",
    "    proposal=propose_random_flip,\n",
    "    constraints=[single_flip_contiguous],\n",
    "    accept=always_accept,\n",
    "    initial_state=initial_partition,\n",
    "    total_steps=1000\n",
    ")"
   ]
  },
  {
   "cell_type": "code",
   "execution_count": null,
   "metadata": {},
   "outputs": [],
   "source": [
    "d_percents = [sorted(partition[\"PRETOT16\"].percents(\"Dem\")) for partition in chain]\n",
    "\n",
    "data = pd.DataFrame(d_percents)"
   ]
  },
  {
   "cell_type": "code",
   "execution_count": null,
   "metadata": {},
   "outputs": [],
   "source": [
    "ax = data.boxplot(positions=range(len(data.columns)))\n",
    "plt.plot(data.iloc[0], \"ro\")\n",
    "\n",
    "plt.show()"
   ]
  },
  {
   "cell_type": "markdown",
   "metadata": {},
   "source": [
    "# Cool! Now to move on to a more complex chain based on the Virginia house redistricing plan"
   ]
  },
  {
   "cell_type": "code",
   "execution_count": null,
   "metadata": {},
   "outputs": [],
   "source": []
  }
 ],
 "metadata": {
  "kernelspec": {
   "display_name": "Python 3",
   "language": "python",
   "name": "python3"
  },
  "language_info": {
   "codemirror_mode": {
    "name": "ipython",
    "version": 3
   },
   "file_extension": ".py",
   "mimetype": "text/x-python",
   "name": "python",
   "nbconvert_exporter": "python",
   "pygments_lexer": "ipython3",
   "version": "3.7.4"
  }
 },
 "nbformat": 4,
 "nbformat_minor": 2
}
